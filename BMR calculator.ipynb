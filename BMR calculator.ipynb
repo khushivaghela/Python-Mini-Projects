{
 "cells": [
  {
   "cell_type": "markdown",
   "id": "cf6a8e14-f4e1-40de-ba64-6bbf7dc2a690",
   "metadata": {},
   "source": [
    "#### BMR CALCULATOR"
   ]
  },
  {
   "cell_type": "code",
   "execution_count": null,
   "id": "ac68aaf3-103d-486b-9e27-4e880d3ac35d",
   "metadata": {},
   "outputs": [],
   "source": []
  },
  {
   "cell_type": "code",
   "execution_count": null,
   "id": "f0326ce5-80a4-4c90-a53f-014aa9ed0abe",
   "metadata": {},
   "outputs": [],
   "source": [
    "The Basal Metabolic Rate (BMR) calculator estimates the number of calories your body needs to maintain basic physiological functions while at rest. \n",
    "There are several formulas to calculate BMR, with the most commonly used being the Harris-Benedict Equation"
   ]
  },
  {
   "cell_type": "code",
   "execution_count": null,
   "id": "b4807cd2-f5c6-4913-8d2c-bf28b5d3e0af",
   "metadata": {},
   "outputs": [],
   "source": []
  },
  {
   "cell_type": "markdown",
   "id": "8c710825-3bcf-4148-8dcf-c0af0a81e3ac",
   "metadata": {},
   "source": [
    "##### BASIC BMR CALCULATOR"
   ]
  },
  {
   "cell_type": "code",
   "execution_count": 15,
   "id": "19fa7b7c-a11e-4e10-9b67-c34ed71eacf9",
   "metadata": {},
   "outputs": [
    {
     "name": "stdin",
     "output_type": "stream",
     "text": [
      "Enter weight in kg 67\n",
      "Enter height in cm 56\n",
      "Enter age in years 3\n"
     ]
    },
    {
     "name": "stdout",
     "output_type": "stream",
     "text": [
      "Your BMR is 1237.674\n"
     ]
    }
   ],
   "source": [
    "\"\"\"Harris-Benedict Equation for men:\"\"\"\n",
    "weight = float(input(\"Enter weight in kg\"))\n",
    "height = float(input(\"Enter height in cm\"))\n",
    "age = int(input(\"Enter age in years\"))\n",
    "BMR = 88.362+(13.397 * weight)+(4.799 * height) - 5.677 * age\n",
    "print(\"Your BMR is\",BMR)"
   ]
  },
  {
   "cell_type": "code",
   "execution_count": null,
   "id": "bcd89e36-7850-435f-b119-5c9fd8ac041f",
   "metadata": {},
   "outputs": [],
   "source": []
  },
  {
   "cell_type": "code",
   "execution_count": 16,
   "id": "ec0c656b-1bc8-4fb9-89c1-1592052106a5",
   "metadata": {},
   "outputs": [
    {
     "name": "stdin",
     "output_type": "stream",
     "text": [
      "Enter weight in kg 60\n",
      "Enter height in cm 150\n",
      "Enter age in years 21\n"
     ]
    },
    {
     "name": "stdout",
     "output_type": "stream",
     "text": [
      "Your BMR is 1376.183\n"
     ]
    }
   ],
   "source": [
    "\"\"\"Harris-Benedict Equation for women:\"\"\"\n",
    "weight = float(input(\"Enter weight in kg\"))\n",
    "height = float(input(\"Enter height in cm\"))\n",
    "age = int(input(\"Enter age in years\"))\n",
    "BMR = 447.593 + (9.247 * weight)+(3.098 * height) - (4.330 * age)\n",
    "print(\"Your BMR is\",BMR)"
   ]
  },
  {
   "cell_type": "code",
   "execution_count": null,
   "id": "9c1dd15d-c94a-4a32-8968-06360cc1c78b",
   "metadata": {},
   "outputs": [],
   "source": []
  },
  {
   "cell_type": "markdown",
   "id": "f2e41da0-53c7-4961-9d17-9bf26be25ef5",
   "metadata": {},
   "source": [
    "##### ADVANCE BMR CALCULATOR"
   ]
  },
  {
   "cell_type": "code",
   "execution_count": 26,
   "id": "07cdcfe6-86ab-43cb-a721-652c2bbc2616",
   "metadata": {},
   "outputs": [
    {
     "name": "stdin",
     "output_type": "stream",
     "text": [
      "Enter your gender (male/female) MALE\n",
      "Enter your age in years 15\n",
      "Enter your height in cm 123\n",
      "Enter your weight in kg 56\n"
     ]
    },
    {
     "name": "stdout",
     "output_type": "stream",
     "text": [
      "your bmr is  1343.7160000000001 calroies/day\n"
     ]
    }
   ],
   "source": [
    "#Taking input\n",
    "gender = str(input(\"Enter your gender (male/female)\")).strip().lower()\n",
    "age = int(input(\"Enter your age in years\"))\n",
    "height = float(input(\"Enter your height in cm\"))\n",
    "weight = float(input(\"Enter your weight in kg\"))\n",
    "\n",
    "#calculating bmr\n",
    "if gender == 'male':\n",
    "    bmr = 88.362+(13.397 * weight)+(4.799 * height) - 5.677 * age\n",
    "    print(\"your bmr is \",bmr,\"calroies/day\")\n",
    "elif gender == 'female':\n",
    "    bmr =  447.593 + (9.247 * weight)+(3.098 * height) - (4.330 * age)\n",
    "    print(bmr)\n",
    "else:\n",
    "    print(\"gender should be male or female\")"
   ]
  }
 ],
 "metadata": {
  "kernelspec": {
   "display_name": "Python 3 (ipykernel)",
   "language": "python",
   "name": "python3"
  },
  "language_info": {
   "codemirror_mode": {
    "name": "ipython",
    "version": 3
   },
   "file_extension": ".py",
   "mimetype": "text/x-python",
   "name": "python",
   "nbconvert_exporter": "python",
   "pygments_lexer": "ipython3",
   "version": "3.11.7"
  }
 },
 "nbformat": 4,
 "nbformat_minor": 5
}
